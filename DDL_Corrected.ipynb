{
    "metadata": {
        "kernelspec": {
            "name": "SQL",
            "display_name": "SQL",
            "language": "sql"
        },
        "language_info": {
            "name": "sql",
            "version": ""
        }
    },
    "nbformat_minor": 2,
    "nbformat": 4,
    "cells": [
        {
            "cell_type": "markdown",
            "source": [
                "Schema Creation"
            ],
            "metadata": {
                "azdata_cell_guid": "7993970e-ced1-47c1-bdd6-e9d92e83d1c7"
            },
            "attachments": {}
        },
        {
            "cell_type": "code",
            "source": [
                "--Create Schema DDL\r\n",
                "IF NOT EXISTS (SELECT * FROM sys.schemas WHERE name = 'dim' ) \r\n",
                "BEGIN\r\n",
                "\tEXEC sp_executesql N'CREATE SCHEMA dim AUTHORIZATION dbo;'\r\n",
                "END\r\n",
                ";\r\n",
                "GO\r\n",
                "\r\n",
                "\r\n",
                "IF NOT EXISTS (SELECT * FROM sys.schemas WHERE name = 'f' ) \r\n",
                "BEGIN\r\n",
                "\tEXEC sp_executesql N'CREATE SCHEMA f AUTHORIZATION dbo;'\r\n",
                "END\r\n",
                ";\r\n",
                "GO\r\n",
                ""
            ],
            "metadata": {
                "azdata_cell_guid": "e7d742da-a04e-49dc-a1f5-a6ad33ea392f",
                "language": "sql"
            },
            "outputs": [
                {
                    "output_type": "display_data",
                    "data": {
                        "text/html": "Commands completed successfully."
                    },
                    "metadata": {}
                },
                {
                    "output_type": "display_data",
                    "data": {
                        "text/html": "Commands completed successfully."
                    },
                    "metadata": {}
                },
                {
                    "output_type": "display_data",
                    "data": {
                        "text/html": "Total execution time: 00:00:00.007"
                    },
                    "metadata": {}
                }
            ],
            "execution_count": 5
        },
        {
            "cell_type": "markdown",
            "source": [
                "Dim table 1 - Patients Table"
            ],
            "metadata": {
                "language": "sql",
                "azdata_cell_guid": "24a50778-0d48-4f2e-96ca-f5d31dc735f6"
            },
            "attachments": {}
        },
        {
            "cell_type": "code",
            "source": [
                "-- Create Patients dim table\r\n",
                "IF NOT EXISTS (SELECT * FROM INFORMATION_SCHEMA.TABLES WHERE TABLE_SCHEMA = 'dim' AND TABLE_NAME = 'Patients')\r\n",
                "BEGIN\r\n",
                "    CREATE TABLE dim.Patients(\r\n",
                "        PatientKey INT NOT NULL,\r\n",
                "        PatientID  [nvarchar](50) NULL,\r\n",
                "        PatientName NVARCHAR(50) NOT NULL,\r\n",
                "        BirthDate DATE NOT NULL,\r\n",
                "        MaritalStatus NVARCHAR(50) NOT NULL,\r\n",
                "        Gender NVARCHAR(50) NOT NULL,\r\n",
                "        EmailAddress NVARCHAR(50) NOT NULL,\r\n",
                "        ServiceKey INT NOT NULL,\r\n",
                "        CONSTRAINT PK_Patients PRIMARY KEY NONCLUSTERED (PatientKey ASC)\r\n",
                "    );\r\n",
                "END;\r\n",
                ""
            ],
            "metadata": {
                "language": "sql",
                "azdata_cell_guid": "91618bdb-a19d-4914-9261-bde3eb53fc7c"
            },
            "outputs": [
                {
                    "output_type": "display_data",
                    "data": {
                        "text/html": "Commands completed successfully."
                    },
                    "metadata": {}
                },
                {
                    "output_type": "display_data",
                    "data": {
                        "text/html": "Total execution time: 00:00:00.010"
                    },
                    "metadata": {}
                }
            ],
            "execution_count": 6
        },
        {
            "cell_type": "markdown",
            "source": [
                "Looad data into <span style=\"color: var(--vscode-foreground);\">Dim table 1 - Patients Table</span>"
            ],
            "metadata": {
                "language": "sql",
                "azdata_cell_guid": "5ff624f8-f3db-4d6a-a1a7-a593c8cd040f"
            },
            "attachments": {}
        },
        {
            "cell_type": "code",
            "source": [
                "\r\n",
                "INSERT INTO dim.Patients(PatientKey, PatientID, PatientName, BirthDate, MaritalStatus, Gender, EmailAddress, ServiceKey)\r\n",
                "SELECT [PatientKey]\r\n",
                "      ,[PatientID]\r\n",
                "      ,[PatientName]\r\n",
                "      ,[BirthDate]\r\n",
                "      ,[MaritalStatus]\r\n",
                "      ,[Gender]\r\n",
                "      ,[EmailAddress]\r\n",
                "      ,[ServiceKey]\r\n",
                "FROM [FinalPresent].[dbo].[Patients]\r\n",
                "WHERE [FinalPresent].[dbo].[Patients].PatientKey NOT IN (SELECT [PatientKey] FROM [MyDB].dim.Patients)\r\n",
                ";\r\n",
                "GO"
            ],
            "metadata": {
                "language": "sql",
                "azdata_cell_guid": "f7712f95-6889-45c5-ab9e-84af2564b8dd"
            },
            "outputs": [
                {
                    "output_type": "display_data",
                    "data": {
                        "text/html": "(0 rows affected)"
                    },
                    "metadata": {}
                },
                {
                    "output_type": "display_data",
                    "data": {
                        "text/html": "Total execution time: 00:00:00.010"
                    },
                    "metadata": {}
                }
            ],
            "execution_count": 7
        },
        {
            "cell_type": "markdown",
            "source": [
                "Dim table 2 - Professional Table"
            ],
            "metadata": {
                "language": "sql",
                "azdata_cell_guid": "8ea3d288-faec-40b3-8dd6-2c872d154b84"
            },
            "attachments": {}
        },
        {
            "cell_type": "code",
            "source": [
                "\r\n",
                "-- Create Professional dim table\r\n",
                "IF NOT EXISTS (SELECT * FROM INFORMATION_SCHEMA.TABLES WHERE TABLE_SCHEMA = 'dim' AND TABLE_NAME = 'Professional')\r\n",
                "BEGIN\r\n",
                "    CREATE TABLE dim.Professional(\r\n",
                "        ProfessionalKey INT NOT NULL,\r\n",
                "        ProfessionalID NVARCHAR(50) NOT NULL,\r\n",
                "        ProfessionName NVARCHAR(50) NOT NULL,\r\n",
                "        Specialisation NVARCHAR(50) NOT NULL,\r\n",
                "        Experience INT NOT NULL,\r\n",
                "        CONSTRAINT PK_Professional PRIMARY KEY NONCLUSTERED (ProfessionalKey ASC)\r\n",
                "    );\r\n",
                "END;\r\n",
                ""
            ],
            "metadata": {
                "language": "sql",
                "azdata_cell_guid": "e69a2c4d-e2ec-49b2-a1b2-252613188047"
            },
            "outputs": [
                {
                    "output_type": "display_data",
                    "data": {
                        "text/html": "Commands completed successfully."
                    },
                    "metadata": {}
                },
                {
                    "output_type": "display_data",
                    "data": {
                        "text/html": "Total execution time: 00:00:00.008"
                    },
                    "metadata": {}
                }
            ],
            "execution_count": 8
        },
        {
            "cell_type": "markdown",
            "source": [
                "Load Data into <span style=\"color: var(--vscode-foreground);\">Dim table 2 - Professional Table</span>"
            ],
            "metadata": {
                "language": "sql",
                "azdata_cell_guid": "e2e91d10-64ab-4409-b2a6-1e0830eaf2a3"
            },
            "attachments": {}
        },
        {
            "cell_type": "code",
            "source": [
                "\r\n",
                "INSERT INTO dim.Professional(ProfessionalKey, ProfessionalID, ProfessionName, Specialisation, Experience)\r\n",
                "SELECT [ProfessionKey]\r\n",
                "      ,[ProfessionID]\r\n",
                "      ,[ProfessionName]\r\n",
                "      ,[Specialisation]\r\n",
                "      ,[Experience]\r\n",
                "FROM [FinalPresent].[dbo].[Professional]\r\n",
                "WHERE [FinalPresent].[dbo].[Professional].ProfessionKey NOT IN (SELECT [ProfessionKey] FROM [MyDB].[dim].[Professional])\r\n",
                "\r\n",
                ";"
            ],
            "metadata": {
                "language": "sql",
                "azdata_cell_guid": "b77a22bd-60d8-4b5c-a488-a5c5021805a0"
            },
            "outputs": [
                {
                    "output_type": "display_data",
                    "data": {
                        "text/html": "(0 rows affected)"
                    },
                    "metadata": {}
                },
                {
                    "output_type": "display_data",
                    "data": {
                        "text/html": "Total execution time: 00:00:00.006"
                    },
                    "metadata": {}
                }
            ],
            "execution_count": 9
        },
        {
            "cell_type": "markdown",
            "source": [
                "Dim table 3 - Service Table"
            ],
            "metadata": {
                "azdata_cell_guid": "0d9739ca-f53c-429d-8f02-ac99ed5420ea"
            },
            "attachments": {}
        },
        {
            "cell_type": "code",
            "source": [
                "\r\n",
                "-- Create Service dim table\r\n",
                "IF NOT EXISTS (SELECT * FROM INFORMATION_SCHEMA.TABLES WHERE TABLE_SCHEMA = 'dim' AND TABLE_NAME = 'Service')\r\n",
                "BEGIN\r\n",
                "    CREATE TABLE dim.Service(\r\n",
                "        ServiceKey INT NOT NULL,\r\n",
                "        ServiceID  NVARCHAR(50) NOT NULL,\r\n",
                "        ServiceName NVARCHAR(100) NOT NULL,\r\n",
                "        ServiceDuration INT NOT NULL,\r\n",
                "        ServiceCost FLOAT NOT NULL,\r\n",
                "        CONSTRAINT PK_Service PRIMARY KEY NONCLUSTERED (ServiceKey ASC)\r\n",
                "    );\r\n",
                "END;"
            ],
            "metadata": {
                "azdata_cell_guid": "b0c0798c-979b-4629-a7ae-1aa18a1dfea0",
                "language": "sql"
            },
            "outputs": [
                {
                    "output_type": "display_data",
                    "data": {
                        "text/html": "Commands completed successfully."
                    },
                    "metadata": {}
                },
                {
                    "output_type": "display_data",
                    "data": {
                        "text/html": "Total execution time: 00:00:00.007"
                    },
                    "metadata": {}
                }
            ],
            "execution_count": 10
        },
        {
            "cell_type": "markdown",
            "source": [
                "Load Data into Table 3 - Service"
            ],
            "metadata": {
                "language": "sql",
                "azdata_cell_guid": "babcbd82-0670-4f08-9fb7-2d4940107a31"
            },
            "attachments": {}
        },
        {
            "cell_type": "code",
            "source": [
                "\r\n",
                "INSERT INTO dim.Service(ServiceKey, ServiceID, ServiceName, ServiceDuration, ServiceCost)\r\n",
                "SELECT [ServiceKey]\r\n",
                "      ,[ServiceID]\r\n",
                "      ,[ServiceName]\r\n",
                "      ,[ServiceDuration]\r\n",
                "      ,[ServiceCost]\r\n",
                "  FROM [FinalPresent].[dbo].[Service]\r\n",
                "WHERE [FinalPresent].[dbo].[Service].ServiceKey NOT IN (SELECT [ServiceKey] FROM [MyDB].[dim].[Service])\r\n",
                ";\r\n",
                "GO"
            ],
            "metadata": {
                "azdata_cell_guid": "c6b0afb6-572f-4069-91e3-1a5850324645",
                "language": "sql"
            },
            "outputs": [
                {
                    "output_type": "display_data",
                    "data": {
                        "text/html": "(0 rows affected)"
                    },
                    "metadata": {}
                },
                {
                    "output_type": "display_data",
                    "data": {
                        "text/html": "Total execution time: 00:00:00.006"
                    },
                    "metadata": {}
                }
            ],
            "execution_count": 11
        },
        {
            "cell_type": "markdown",
            "source": [
                "Fact Table - Appointment Table 4"
            ],
            "metadata": {
                "azdata_cell_guid": "534a1659-41b3-4011-b581-a5e808663069"
            },
            "attachments": {}
        },
        {
            "cell_type": "code",
            "source": [
                "\r\n",
                "IF NOT EXISTS (SELECT * FROM INFORMATION_SCHEMA.TABLES WHERE TABLE_SCHEMA = 'f' AND TABLE_NAME = 'Appointment')\r\n",
                "BEGIN\r\n",
                "    CREATE TABLE f.Appointment(\r\n",
                "        AppointmentKey SMALLINT NOT NULL,\r\n",
                "        AppointmentDate NVARCHAR(50) NOT NULL,\r\n",
                "        PatientKey INT NOT NULL,\r\n",
                "        ProfessionalKey INT NOT NULL,\r\n",
                "        ServiceKey INT NULL,\r\n",
                "\t\tTotalAmount FLOAT NOT NULL\r\n",
                "\t\tCONSTRAINT FK_Appointment_Patients FOREIGN KEY(PatientKey) REFERENCES dim.Patients (PatientKey),\r\n",
                "        CONSTRAINT FK_Appointment_Service FOREIGN KEY(ServiceKey) REFERENCES dim.[Service] (ServiceKey),\r\n",
                "\t\tCONSTRAINT FK_Appointment_Professional FOREIGN KEY(ProfessionalKey) REFERENCES  dim.Professional (ProfessionalKey)\r\n",
                "    );\r\n",
                "END;\r\n",
                "\r\n",
                ""
            ],
            "metadata": {
                "azdata_cell_guid": "5349ffdb-10b1-49d9-9855-8a66aef17cb7",
                "language": "sql"
            },
            "outputs": [
                {
                    "output_type": "display_data",
                    "data": {
                        "text/html": "Commands completed successfully."
                    },
                    "metadata": {}
                },
                {
                    "output_type": "display_data",
                    "data": {
                        "text/html": "Total execution time: 00:00:00.009"
                    },
                    "metadata": {}
                }
            ],
            "execution_count": 12
        },
        {
            "cell_type": "markdown",
            "source": [
                "Load Data into Fact Table- Appointment"
            ],
            "metadata": {
                "language": "sql",
                "azdata_cell_guid": "286be830-ee3b-429f-b099-43d0ea325bb4"
            },
            "attachments": {}
        },
        {
            "cell_type": "code",
            "source": [
                "\r\n",
                "INSERT INTO [MyDB].[f].[Appointment] (AppointmentKey, AppointmentDate, PatientKey, ProfessionalKey, ServiceKey, TotalAmount)\r\n",
                "SELECT\r\n",
                "    a.[AppointmentKey],\r\n",
                "    a.[AppointmentDate],\r\n",
                "    a.[PatientKey],\r\n",
                "    a.[ProfessionalKey],\r\n",
                "    s.[ServiceKey],  \r\n",
                "    a.[ServiceCost]\r\n",
                "FROM\r\n",
                "    [FinalPresent].[dbo].[Appointment] a\r\n",
                "JOIN\r\n",
                "    [MyDB].[dim].[Service] s ON a.[ServiceKey] = s.[ServiceKey]\r\n",
                "WHERE\r\n",
                "    a.AppointmentKey NOT IN (SELECT AppointmentKey FROM [MyDB].[f].[Appointment]);"
            ],
            "metadata": {
                "azdata_cell_guid": "ad0da682-1e02-4dc9-be9f-e2c699a86e6d",
                "language": "sql"
            },
            "outputs": [
                {
                    "output_type": "display_data",
                    "data": {
                        "text/html": "(0 rows affected)"
                    },
                    "metadata": {}
                },
                {
                    "output_type": "display_data",
                    "data": {
                        "text/html": "Total execution time: 00:00:00.014"
                    },
                    "metadata": {}
                }
            ],
            "execution_count": 13
        }
    ]
}